{
 "cells": [
  {
   "cell_type": "markdown",
   "metadata": {},
   "source": [
    "### Recommendations with MovieTweetings: Getting to Know The Data\n",
    "\n",
    "Throughout this lesson, you will be working with the [MovieTweetings Data](https://github.com/sidooms/MovieTweetings/tree/master/recsyschallenge2014).  To get started, you can read more about this project and the dataset from the [publication here](http://crowdrec2013.noahlab.com.hk/papers/crowdrec2013_Dooms.pdf).\n",
    "\n",
    "**Note:** There are solutions to each of the notebooks available by hitting the orange jupyter logo in the top left of this notebook.  Additionally, you can watch me work through the solutions on the screencasts that follow each workbook. \n",
    "\n",
    "To get started, read in the libraries and the two datasets you will be using throughout the lesson using the code below.\n",
    "\n",
    " "
   ]
  },
  {
   "cell_type": "code",
   "execution_count": 1,
   "metadata": {},
   "outputs": [],
   "source": [
    "%load_ext lab_black"
   ]
  },
  {
   "cell_type": "code",
   "execution_count": 2,
   "metadata": {},
   "outputs": [],
   "source": [
    "from functools import reduce\n",
    "\n",
    "import numpy as np\n",
    "import pandas as pd\n",
    "import matplotlib.pyplot as plt\n",
    "import tests as t\n",
    "\n",
    "%matplotlib inline\n",
    "\n",
    "# Read in the datasets\n",
    "movies = pd.read_csv(\n",
    "    \"https://raw.githubusercontent.com/sidooms/MovieTweetings/master/latest/movies.dat\",\n",
    "    delimiter=\"::\",\n",
    "    header=None,\n",
    "    names=[\"movie_id\", \"movie\", \"genre\"],\n",
    "    dtype={\"movie_id\": object},\n",
    "    engine=\"python\",\n",
    ")\n",
    "reviews = pd.read_csv(\n",
    "    \"https://raw.githubusercontent.com/sidooms/MovieTweetings/master/latest/ratings.dat\",\n",
    "    delimiter=\"::\",\n",
    "    header=None,\n",
    "    names=[\"user_id\", \"movie_id\", \"rating\", \"timestamp\"],\n",
    "    dtype={\"movie_id\": object, \"user_id\": object, \"timestamp\": object},\n",
    "    engine=\"python\",\n",
    ")"
   ]
  },
  {
   "cell_type": "markdown",
   "metadata": {},
   "source": [
    "#### 1. Take a Look At The Data \n",
    "\n",
    "Take a look at the data and use your findings to fill in the dictionary below with the correct responses to show your understanding of the data."
   ]
  },
  {
   "cell_type": "code",
   "execution_count": 3,
   "metadata": {},
   "outputs": [
    {
     "name": "stdout",
     "output_type": "stream",
     "text": [
      "37163\n",
      "902147\n"
     ]
    }
   ],
   "source": [
    "# cell for work\n",
    "print(len(movies))\n",
    "print(len(reviews))"
   ]
  },
  {
   "cell_type": "code",
   "execution_count": 4,
   "metadata": {},
   "outputs": [
    {
     "name": "stdout",
     "output_type": "stream",
     "text": [
      "[1, 2, 3, 4, 5, 6, 7, 8, 9]\n"
     ]
    }
   ],
   "source": [
    "l = [[1, 2, 3], [4, 5, 6], [7, 8, 9]]\n",
    "from functools import reduce\n",
    "\n",
    "k = reduce(lambda l1, l2: l1 + l2, l)\n",
    "print(k)"
   ]
  },
  {
   "cell_type": "code",
   "execution_count": 5,
   "metadata": {},
   "outputs": [],
   "source": [
    "# cell for work\n",
    "genres = list(movies.query(\"genre.notna()\").genre.str.split(\"|\"))\n",
    "k = reduce(lambda l1, l2: l1 + l2, genres)"
   ]
  },
  {
   "cell_type": "code",
   "execution_count": 6,
   "metadata": {},
   "outputs": [
    {
     "data": {
      "text/plain": [
       "28"
      ]
     },
     "execution_count": 6,
     "metadata": {},
     "output_type": "execute_result"
    }
   ],
   "source": [
    "len(set(k))"
   ]
  },
  {
   "cell_type": "code",
   "execution_count": 7,
   "metadata": {},
   "outputs": [
    {
     "data": {
      "text/plain": [
       "70431"
      ]
     },
     "execution_count": 7,
     "metadata": {},
     "output_type": "execute_result"
    }
   ],
   "source": [
    "# more work\n",
    "reviews.user_id.nunique()"
   ]
  },
  {
   "cell_type": "code",
   "execution_count": 8,
   "metadata": {},
   "outputs": [
    {
     "data": {
      "text/plain": [
       "user_id      0\n",
       "movie_id     0\n",
       "rating       0\n",
       "timestamp    0\n",
       "dtype: int64"
      ]
     },
     "execution_count": 8,
     "metadata": {},
     "output_type": "execute_result"
    }
   ],
   "source": [
    "# and still more\n",
    "reviews.isna().sum()"
   ]
  },
  {
   "cell_type": "code",
   "execution_count": 9,
   "metadata": {},
   "outputs": [
    {
     "data": {
      "text/plain": [
       "count    902147.000000\n",
       "mean          7.316031\n",
       "std           1.852799\n",
       "min           0.000000\n",
       "25%           6.000000\n",
       "50%           8.000000\n",
       "75%           9.000000\n",
       "max          10.000000\n",
       "Name: rating, dtype: float64"
      ]
     },
     "execution_count": 9,
     "metadata": {},
     "output_type": "execute_result"
    }
   ],
   "source": [
    "# and even more - open additional cells as necessary\n",
    "reviews.rating.describe()"
   ]
  },
  {
   "cell_type": "code",
   "execution_count": 10,
   "metadata": {},
   "outputs": [],
   "source": [
    "# Use your findings to match each variable to the correct statement in the dictionary\n",
    "dict_sol1 = {\n",
    "    \"The number of movies in the dataset\": 37163,\n",
    "    \"The number of ratings in the dataset\": 902147,\n",
    "    \"The number of different genres\": 28,\n",
    "    \"The number of unique users in the dataset\": 70431,\n",
    "    \"The number missing ratings in the reviews dataset\": 0,\n",
    "    \"The average rating given across all ratings\": 7.316031,\n",
    "    \"The minimum rating given across all ratings\": 0,\n",
    "    \"The maximum rating given across all ratings\": 10,\n",
    "}"
   ]
  },
  {
   "cell_type": "markdown",
   "metadata": {},
   "source": [
    "#### 2. Data Cleaning\n",
    "\n",
    "Next, we need to pull some additional relevant information out of the existing columns. \n",
    "\n",
    "For each of the datasets, there are a couple of cleaning steps we need to take care of:\n",
    "\n",
    "#### Movies\n",
    "* Pull the date from the title and create new column\n",
    "* Dummy the date column with 1's and 0's for each century of a movie (1800's, 1900's, and 2000's)\n",
    "* Dummy column the genre with 1's and 0's\n",
    "\n",
    "#### Reviews\n",
    "* Create a date out of time stamp\n",
    "* Create month/day/year columns from timestamp as dummies\n",
    "\n",
    "You can check your results against the header of my solution by running the cell below with the **show_clean_dataframes** function."
   ]
  },
  {
   "cell_type": "code",
   "execution_count": 11,
   "metadata": {},
   "outputs": [],
   "source": [
    "# cell for work\n",
    "movies = movies.assign(\n",
    "    year=lambda x: x.movie.str.slice(-5, -1),\n",
    "    movie=lambda x: x.movie.str.slice(0, -6),\n",
    ")\n",
    "movies[\"1800's\"] = movies.year.str.startswith(\"18\")\n",
    "movies[\"1900's\"] = movies.year.str.startswith(\"19\")\n",
    "movies[\"2000's\"] = movies.year.str.startswith(\"20\")\n",
    "movies = pd.concat([movies, pd.get_dummies(movies.genre)], axis=1)"
   ]
  },
  {
   "cell_type": "code",
   "execution_count": 12,
   "metadata": {},
   "outputs": [],
   "source": [
    "# and another\n",
    "reviews = reviews.assign(date=lambda x: pd.to_datetime(x.timestamp, unit=\"s\"))"
   ]
  },
  {
   "cell_type": "code",
   "execution_count": 13,
   "metadata": {},
   "outputs": [
    {
     "name": "stdout",
     "output_type": "stream",
     "text": [
      "   Unnamed: 0  user_id  movie_id  rating   timestamp                 date\n",
      "0           0        1    114508       8  1381006850  2013-10-05 23:00:50\n",
      "1           1        2    499549       9  1376753198  2013-08-17 17:26:38\n",
      "2           2        2   1305591       8  1376742507  2013-08-17 14:28:27\n",
      "3           3        2   1428538       1  1371307089  2013-06-15 16:38:09\n",
      "4           4        3     75314       1  1595468524  2020-07-23 03:42:04\n",
      "   Unnamed: 0  movie_id                                              movie  \\\n",
      "0           0         8      Edison Kinetoscopic Record of a Sneeze (1894)   \n",
      "1           1        10                La sortie des usines Lumière (1895)   \n",
      "2           2        12                      The Arrival of a Train (1896)   \n",
      "3           3        25  The Oxford and Cambridge University Boat Race ...   \n",
      "4           4        91                         Le manoir du diable (1896)   \n",
      "\n",
      "               genre  date  1800's  1900's  2000's  Thriller  Family  ...  \\\n",
      "0  Documentary|Short  1894       1       0       0         0       0  ...   \n",
      "1  Documentary|Short  1895       1       0       0         0       0  ...   \n",
      "2  Documentary|Short  1896       1       0       0         0       0  ...   \n",
      "3                NaN  1895       1       0       0         0       0  ...   \n",
      "4       Short|Horror  1896       1       0       0         0       0  ...   \n",
      "\n",
      "   Drama  Action  Animation  Talk-Show  Romance  Film-Noir  Sport  War  Music  \\\n",
      "0      0       0          0          0        0          0      0    0      0   \n",
      "1      0       0          0          0        0          0      0    0      0   \n",
      "2      0       0          0          0        0          0      0    0      0   \n",
      "3      0       0          0          0        0          0      0    0      0   \n",
      "4      0       0          0          0        0          0      0    0      0   \n",
      "\n",
      "   Game-Show  \n",
      "0          0  \n",
      "1          0  \n",
      "2          0  \n",
      "3          0  \n",
      "4          0  \n",
      "\n",
      "[5 rows x 36 columns]\n"
     ]
    }
   ],
   "source": [
    "reviews_new, movies_new = t.show_clean_dataframes()"
   ]
  },
  {
   "cell_type": "code",
   "execution_count": null,
   "metadata": {},
   "outputs": [],
   "source": []
  }
 ],
 "metadata": {
  "kernelspec": {
   "display_name": "Python 3",
   "language": "python",
   "name": "python3"
  },
  "language_info": {
   "codemirror_mode": {
    "name": "ipython",
    "version": 3
   },
   "file_extension": ".py",
   "mimetype": "text/x-python",
   "name": "python",
   "nbconvert_exporter": "python",
   "pygments_lexer": "ipython3",
   "version": "3.8.5"
  }
 },
 "nbformat": 4,
 "nbformat_minor": 4
}
