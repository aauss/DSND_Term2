{
 "cells": [
  {
   "cell_type": "markdown",
   "metadata": {},
   "source": [
    "### Recommendations with MovieTweetings: Most Popular Recommendation\n",
    "\n",
    "Now that you have created the necessary columns we will be using throughout the rest of the lesson on creating recommendations, let's get started with the first of our recommendations.\n",
    "\n",
    "To get started, read in the libraries and the two datasets you will be using throughout the lesson using the code below.\n"
   ]
  },
  {
   "cell_type": "code",
   "execution_count": 1,
   "metadata": {},
   "outputs": [],
   "source": [
    "%load_ext lab_black"
   ]
  },
  {
   "cell_type": "code",
   "execution_count": 2,
   "metadata": {},
   "outputs": [],
   "source": [
    "import numpy as np\n",
    "import pandas as pd\n",
    "import matplotlib.pyplot as plt\n",
    "import tests as t\n",
    "\n",
    "%matplotlib inline\n",
    "\n",
    "# Read in the datasets\n",
    "movies = pd.read_csv(\"movies_clean.csv\")\n",
    "reviews = pd.read_csv(\"reviews_clean.csv\")\n",
    "del movies[\"Unnamed: 0\"]\n",
    "del reviews[\"Unnamed: 0\"]"
   ]
  },
  {
   "cell_type": "markdown",
   "metadata": {},
   "source": [
    "#### 1. How To Find The Most Popular Movies\n",
    "\n",
    "For this notebook, we have a single task.  The task is that no matter the user, we need to provide a list of the recommendations based on simply the most popular items.\n",
    "\n",
    "For this task, we will consider what is \"most popular\" based on the following criteria:\n",
    "\n",
    "* A movie with the highest average rating is considered best\n",
    "* With ties, movies that have more ratings are better\n",
    "* A movie must have a minimum of 5 ratings to be considered among the best movies\n",
    "* If movies are tied in their average rating and number of ratings, the ranking is determined by the movie that is the most recent rating\n",
    "\n",
    "With these criteria, the goal for this notebook is to take a **user_id** and provide back the **n_top** recommendations.  Use the function below as the scaffolding that will be used for all the future recommendations as well."
   ]
  },
  {
   "cell_type": "code",
   "execution_count": 5,
   "metadata": {},
   "outputs": [],
   "source": [
    "def popular_recommendations(user_id, n_top):\n",
    "    \"\"\"\n",
    "    INPUT:\n",
    "    user_id - the user_id of the individual you are making recommendations for\n",
    "    n_top - an integer of the number recommendations you want back\n",
    "    OUTPUT:\n",
    "    top_movies - a list of the n_top recommended movies by movie title in order best to worst\n",
    "    \"\"\"\n",
    "    # Do stuff\n",
    "    top_movies = reviews.groupby(\"movie_id\").agg(\n",
    "        {\"rating\": [\"mean\", \"size\"], \"date\": \"max\"}\n",
    "    )\n",
    "    top_movies = top_movies.merge(\n",
    "        movies, left_index=True, right_on=\"movie_id\", how=\"left\"\n",
    "    ).sort_values(\n",
    "        ascending=False, by=[(\"rating\", \"mean\"), (\"rating\", \"size\"), (\"date\", \"max\")]\n",
    "    )\n",
    "    top_movies = top_movies[top_movies[(\"rating\", \"size\")] >= 5]\n",
    "    return list(\n",
    "        top_movies.iloc[:n_top].movie\n",
    "    )  # a list of the n_top movies as recommended"
   ]
  },
  {
   "cell_type": "markdown",
   "metadata": {},
   "source": [
    "Usint the three criteria above, you should be able to put together the above function.  If you feel confident in your solution, check the results of your function against our solution. On the next page, you can see a walkthrough and you can of course get the solution by looking at the solution notebook available in this workspace.  "
   ]
  },
  {
   "cell_type": "code",
   "execution_count": 6,
   "metadata": {},
   "outputs": [
    {
     "name": "stderr",
     "output_type": "stream",
     "text": [
      "/home/auss/miniconda3/envs/ds/lib/python3.8/site-packages/pandas/core/reshape/merge.py:643: UserWarning: merging between different levels can give an unintended result (2 levels on the left,1 on the right)\n",
      "  warnings.warn(msg, UserWarning)\n",
      "/home/auss/miniconda3/envs/ds/lib/python3.8/site-packages/pandas/core/reshape/merge.py:643: UserWarning: merging between different levels can give an unintended result (2 levels on the left,1 on the right)\n",
      "  warnings.warn(msg, UserWarning)\n",
      "/home/auss/miniconda3/envs/ds/lib/python3.8/site-packages/pandas/core/reshape/merge.py:643: UserWarning: merging between different levels can give an unintended result (2 levels on the left,1 on the right)\n",
      "  warnings.warn(msg, UserWarning)\n",
      "/home/auss/miniconda3/envs/ds/lib/python3.8/site-packages/pandas/core/reshape/merge.py:643: UserWarning: merging between different levels can give an unintended result (2 levels on the left,1 on the right)\n",
      "  warnings.warn(msg, UserWarning)\n"
     ]
    }
   ],
   "source": [
    "# Put your solutions for each of the cases here\n",
    "\n",
    "# Top 20 movies recommended for id 1\n",
    "\n",
    "recs_20_for_1 = popular_recommendations(1, 20)  # Your solution list here\n",
    "\n",
    "# Top 5 movies recommended for id 53968\n",
    "recs_5_for_53968 = popular_recommendations(53968, 5)  # Your solution list here\n",
    "\n",
    "# Top 100 movies recommended for id 70000\n",
    "recs_100_for_70000 = popular_recommendations(70000, 100)  # Your solution list here\n",
    "\n",
    "# Top 35 movies recommended for id 43\n",
    "recs_35_for_43 = popular_recommendations(43, 35)  # Your solution list here"
   ]
  },
  {
   "cell_type": "code",
   "execution_count": 7,
   "metadata": {},
   "outputs": [
    {
     "name": "stdout",
     "output_type": "stream",
     "text": [
      "If you got here, looks like you are good to go!  Nice job!\n"
     ]
    }
   ],
   "source": [
    "### You Should Not Need To Modify Anything In This Cell\n",
    "ranked_movies = t.create_ranked_df(\n",
    "    movies, reviews\n",
    ")  # only run this once - it is not fast\n",
    "\n",
    "# check 1\n",
    "assert (\n",
    "    t.popular_recommendations(\"1\", 20, ranked_movies) == recs_20_for_1\n",
    "), \"The first check failed...\"\n",
    "# check 2\n",
    "assert (\n",
    "    t.popular_recommendations(\"53968\", 5, ranked_movies) == recs_5_for_53968\n",
    "), \"The second check failed...\"\n",
    "# check 3\n",
    "assert (\n",
    "    t.popular_recommendations(\"70000\", 100, ranked_movies) == recs_100_for_70000\n",
    "), \"The third check failed...\"\n",
    "# check 4\n",
    "assert (\n",
    "    t.popular_recommendations(\"43\", 35, ranked_movies) == recs_35_for_43\n",
    "), \"The fourth check failed...\"\n",
    "\n",
    "print(\"If you got here, looks like you are good to go!  Nice job!\")"
   ]
  },
  {
   "cell_type": "markdown",
   "metadata": {},
   "source": [
    "**Notice:** This wasn't the only way we could have determined the \"top rated\" movies.  You can imagine that in keeping track of trending news or trending social events, you would likely want to create a time window from the current time, and then pull the articles in the most recent time frame.  There are always going to be some subjective decisions to be made.  \n",
    "\n",
    "If you find that no one is paying any attention to your most popular recommendations, then it might be time to find a new way to recommend, which is what the next parts of the lesson should prepare us to do!\n"
   ]
  },
  {
   "cell_type": "markdown",
   "metadata": {},
   "source": [
    "### Part II: Adding Filters\n",
    "\n",
    "Now that you have created a function to give back the **n_top** movies, let's make it a bit more robust.  Add arguments that will act as filters for the movie **year** and **genre**.  \n",
    "\n",
    "Use the cells below to adjust your existing function to allow for **year** and **genre** arguments as **lists** of **strings**.  Then your ending results are filtered to only movies within the lists of provided years and genres (as `or` conditions).  If no list is provided, there should be no filter applied.\n",
    "\n",
    "You can adjust other necessary inputs as necessary to retrieve the final results you are looking for!\n",
    "\n",
    "Try writing a few tests against the test function in our test function.  Below returns the top 20 movies for user 1 based on the specified year and genre filters.  Does yours return the same? \n",
    "\n",
    "```\n",
    "t.popular_recs_filtered('1', 20, ranked_movies, years=['2015', '2016', '2017', '2018'], genres=['History'])\n",
    "```"
   ]
  },
  {
   "cell_type": "code",
   "execution_count": 11,
   "metadata": {},
   "outputs": [],
   "source": [
    "def popular_recommendations_filtered(user_id, n_top, years, genres):\n",
    "    \"\"\"\n",
    "    INPUT:\n",
    "    user_id - the user_id of the individual you are making recommendations for\n",
    "    n_top - an integer of the number recommendations you want back\n",
    "    OUTPUT:\n",
    "    top_movies - a list of the n_top recommended movies by movie title in order best to worst\n",
    "    \"\"\"\n",
    "    # Do stuff\n",
    "    top_movies = reviews.groupby(\"movie_id\").agg(\n",
    "        {\"rating\": [\"mean\", \"size\"], \"date\": \"max\"}\n",
    "    )\n",
    "    top_movies = top_movies.merge(\n",
    "        movies, left_index=True, right_on=\"movie_id\", how=\"left\"\n",
    "    ).sort_values(\n",
    "        ascending=False, by=[(\"rating\", \"mean\"), (\"rating\", \"size\"), (\"date\", \"max\")]\n",
    "    )\n",
    "    top_movies = top_movies[top_movies[(\"rating\", \"size\")] >= 5]\n",
    "    top_movies = top_movies.query(\"date.isin(@years) and genre.str.contains(@genres)\")\n",
    "    return list(\n",
    "        top_movies.iloc[:n_top].movie\n",
    "    )  # a list of the n_top movies as recommended"
   ]
  },
  {
   "cell_type": "code",
   "execution_count": 12,
   "metadata": {},
   "outputs": [
    {
     "name": "stderr",
     "output_type": "stream",
     "text": [
      "/home/auss/miniconda3/envs/ds/lib/python3.8/site-packages/pandas/core/reshape/merge.py:643: UserWarning: merging between different levels can give an unintended result (2 levels on the left,1 on the right)\n",
      "  warnings.warn(msg, UserWarning)\n"
     ]
    },
    {
     "data": {
      "text/plain": [
       "[\"Quiet Riot: Well Now You're Here, There's No Way Back (2014)\",\n",
       " 'Chasing Asylum (2016)',\n",
       " 'Mad As Hell (2014)',\n",
       " \"Hillary's America: The Secret History of the Democratic Party (2016)\",\n",
       " 'Terra (2015)',\n",
       " 'Jim Jefferies: BARE (2014)',\n",
       " 'Night Will Fall (2014)',\n",
       " 'Roger Waters: The Wall (2014)',\n",
       " 'Hitting the Apex (2015)',\n",
       " 'Colombia magia salvaje (2015)']"
      ]
     },
     "execution_count": 12,
     "metadata": {},
     "output_type": "execute_result"
    }
   ],
   "source": [
    "popular_recommendations_filtered(\n",
    "    1,\n",
    "    10,\n",
    "    [2014, 2015, 2016],\n",
    "    \"Documentary\",\n",
    ")"
   ]
  }
 ],
 "metadata": {
  "kernelspec": {
   "display_name": "Python 3",
   "language": "python",
   "name": "python3"
  },
  "language_info": {
   "codemirror_mode": {
    "name": "ipython",
    "version": 3
   },
   "file_extension": ".py",
   "mimetype": "text/x-python",
   "name": "python",
   "nbconvert_exporter": "python",
   "pygments_lexer": "ipython3",
   "version": "3.8.5"
  }
 },
 "nbformat": 4,
 "nbformat_minor": 4
}
